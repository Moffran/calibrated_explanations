{
 "cells": [
  {
   "cell_type": "markdown",
   "metadata": {},
   "source": [
    "# Calibrated Explanations for Binary Classification\n",
    "## Stability and Robustness\n",
    "\n",
    "Author: Tuwe Löfström (tuwe.lofstrom@ju.se)  \n",
    "Copyright 2023 Tuwe Löfström  \n",
    "License: BSD 3 clause\n",
    "Sources:\n",
    "1. [\"Calibrated Explanations: with Uncertainty Information and Counterfactuals\"](https://arxiv.org/abt/2305.02305) by [Helena Löfström](https://github.com/Moffran), [Tuwe Löfström](https://github.com/tuvelofstrom), Ulf Johansson, and Cecilia Sönströd.\n",
    "\n",
    "### 1. Import packages"
   ]
  },
  {
   "cell_type": "code",
   "execution_count": 92,
   "metadata": {},
   "outputs": [
    {
     "name": "stdout",
     "output_type": "stream",
     "text": [
      "The autoreload extension is already loaded. To reload it, use:\n",
      "  %reload_ext autoreload\n"
     ]
    }
   ],
   "source": [
    "%load_ext autoreload\n",
    "%autoreload 2"
   ]
  },
  {
   "cell_type": "code",
   "execution_count": 93,
   "metadata": {},
   "outputs": [],
   "source": [
    "import pickle\n",
    "import numpy as np"
   ]
  },
  {
   "cell_type": "markdown",
   "metadata": {},
   "source": [
    "### 2 Import results from the pickled file"
   ]
  },
  {
   "cell_type": "code",
   "execution_count": 94,
   "metadata": {},
   "outputs": [],
   "source": [
    "with open('results_stab_rob.pkl', 'rb') as f:\n",
    "    results = pickle.load(f)"
   ]
  },
  {
   "cell_type": "markdown",
   "metadata": {},
   "source": [
    "First look at the times taken to compute the explanations."
   ]
  },
  {
   "cell_type": "code",
   "execution_count": 95,
   "metadata": {},
   "outputs": [
    {
     "name": "stdout",
     "output_type": "stream",
     "text": [
      " & xGB & xGB & xGB & xGB & RF & RF & RF & RF \\\\\n",
      "Dataset & CE Stability & CCE Stability & CE Robustness & CCE Robustness  & CE Stability & CCE Stability& CE Robustness & CCE Robustness \\\\\n",
      "pc1req & 0.09 & 0.09 & 0.09 & 0.09 & 0.22 & 0.22 & 0.23 & 0.23 \\\\\n"
     ]
    }
   ],
   "source": [
    "s_timer = []\n",
    "r_timer = []\n",
    "n = results['test_size']\n",
    "r = results['num_rep']\n",
    "\n",
    "print(' & xGB & xGB & xGB & xGB & RF & RF & RF & RF \\\\\\\\')\n",
    "print('Dataset & CE Stability & CCE Stability & CE Robustness & CCE Robustness  & CE Stability & CCE Stability& CE Robustness & CCE Robustness \\\\\\\\')\n",
    "for d in results:\n",
    "    if d in ['test_size', 'num_rep']:\n",
    "        continue\n",
    "    print(d, end='')\n",
    "    for a in results[d]:\n",
    "        print(' & ', end='')\n",
    "        s_time = results[d][a]['stab_timer']\n",
    "        r_time = results[d][a]['rob_timer']\n",
    "        print(f'{np.mean([t/n for t in s_time[\"ce\"]]):.2f} & {np.mean([t/n for t in s_time[\"cce\"]]):.2f} & ',end='')\n",
    "        print(f'{np.mean([t/n for t in r_time[\"ce\"]]):.2f} & {np.mean([t/n for t in r_time[\"cce\"]]):.2f}',end='')\n",
    "    print(' \\\\\\\\')\n",
    "\n"
   ]
  },
  {
   "cell_type": "markdown",
   "metadata": {},
   "source": [
    "Let us fit a random forest to the proper training set. We also set a random seed to be able to rerun the notebook and get the same results."
   ]
  },
  {
   "cell_type": "code",
   "execution_count": 98,
   "metadata": {},
   "outputs": [
    {
     "name": "stdout",
     "output_type": "stream",
     "text": [
      " & xGB & xGB & xGB & xGB & xGB & RF & RF & RF & RF & RF \\\\\n",
      "Dataset & CE Stability & CCE Stability & CE Robustness & CCE Robustness & Model Variance & CE Stability & CCE Stability & CE Robustness & CCE Robustness & Model Variance \\\\\n",
      "pc1req & 7.7e-35 & 7.7e-35 & 7.7e-35 & 7.7e-35 & 7.4e-15 & 1.8e-33 & 1.8e-33 & 2.0e-03 & 2.0e-03 & 6.4e-04 \\\\\n"
     ]
    }
   ],
   "source": [
    "from scipy import stats as st\n",
    "stab_rank = {}\n",
    "stab_val = {}\n",
    "stab_res = {}\n",
    "rob_rank = {}\n",
    "rob_val = {}\n",
    "rob_proba = []\n",
    "\n",
    "n = results['test_size']\n",
    "r = results['num_rep']\n",
    "\n",
    "print(' & xGB & xGB & xGB & xGB & xGB & RF & RF & RF & RF & RF \\\\\\\\')\n",
    "print('Dataset & CE Stability & CCE Stability & CE Robustness & CCE Robustness & Model Variance & CE Stability & CCE Stability & CE Robustness & CCE Robustness & Model Variance \\\\\\\\')\n",
    "for d in results:\n",
    "    if d in ['test_size', 'num_rep']:\n",
    "        continue\n",
    "    print(d, end='')\n",
    "    for a in results[d]:\n",
    "        print(' & ', end='')\n",
    "        stability = results[d][a]['stability']\n",
    "        robustness = results[d][a]['robustness']\n",
    "        \n",
    "        for key in ['ce', 'cce']:    \n",
    "            ranks = []\n",
    "            values = []\n",
    "            for j in range(n):\n",
    "                rank = []\n",
    "                value = []\n",
    "                for i in range(r):\n",
    "                    rank.append(np.argsort(np.abs(stability[key][i][j]['predict']))[-1:][0])\n",
    "                ranks.append(rank)\n",
    "                values.append(value)\n",
    "            stab_rank[key] = st.mode(ranks, axis=1)[0]\n",
    "            value = []\n",
    "            for j in range(n):\n",
    "                value.append([np.mean([stability[key][i][j]['predict'][stab_rank[key][j][0]] for i in range(r)]), np.var([stability[key][i][j]['predict'][stab_rank[key][j][0]] for i in range(r)])])\n",
    "            stab_val[key] = value \n",
    "            \n",
    "            ranks = []\n",
    "            values = []\n",
    "            for j in range(n):\n",
    "                rank = []\n",
    "                value = []\n",
    "                for i in range(r):\n",
    "                    rank.append(np.argsort(np.abs(robustness[key][i][j]['predict']))[-1:][0])\n",
    "                ranks.append(rank)\n",
    "                values.append(value)\n",
    "            rob_rank[key] = st.mode(ranks, axis=1)[0]\n",
    "            value = []\n",
    "            for j in range(n):\n",
    "                value.append([np.mean([robustness[key][i][j]['predict'][rob_rank[key][j][0]] for i in range(r)]), np.var([robustness[key][i][j]['predict'][rob_rank[key][j][0]] for i in range(r)])])\n",
    "            rob_val[key] = value\n",
    "        \n",
    "        for inst in range(n):\n",
    "            rob_proba.append(np.var([robustness['proba'][j][inst] for j in range(r)]))\n",
    "        \n",
    "        # print(stab_rank)\n",
    "        # print(stab_val)\n",
    "        print(f'{np.mean([t[1] if t[1] > 1e-20 else 0 for t in stab_val[\"ce\"]]):.1e} & {np.mean([t[1] if t[1] > 1e-20 else 0 for t in stab_val[\"cce\"]]):.1e} & ',end='')\n",
    "        print(f'{np.mean([t[1] if t[1] > 1e-20 else 0 for t in rob_val[\"ce\"]]):.1e} & {np.mean([t[1] if t[1] > 1e-20 else 0 for t in rob_val[\"cce\"]]):.1e} & ',end='')\n",
    "        # print(f'{np.mean([t[1] for t in stab_val[\"ce\"]]):.1e} & {np.mean([t[1] for t in stab_val[\"cce\"]]):.1e} & ',end='')\n",
    "        # print(f'{np.mean([t[1] for t in rob_val[\"ce\"]]):.1e} & {np.mean([t[1] for t in rob_val[\"cce\"]]):.1e} & ',end='')\n",
    "        print(f'{np.mean(rob_proba):.1e}', end='')\n",
    "    print(' \\\\\\\\')"
   ]
  }
 ],
 "metadata": {
  "kernelspec": {
   "display_name": "Python 3 (ipykernel)",
   "language": "python",
   "name": "python3"
  },
  "language_info": {
   "codemirror_mode": {
    "name": "ipython",
    "version": 3
   },
   "file_extension": ".py",
   "mimetype": "text/x-python",
   "name": "python",
   "nbconvert_exporter": "python",
   "pygments_lexer": "ipython3",
   "version": "3.9.7"
  },
  "vscode": {
   "interpreter": {
    "hash": "168dd73c7a7b76a0355e35f33a90e68c167b1dbb1e524891be00dd5c7b8524eb"
   }
  }
 },
 "nbformat": 4,
 "nbformat_minor": 4
}
