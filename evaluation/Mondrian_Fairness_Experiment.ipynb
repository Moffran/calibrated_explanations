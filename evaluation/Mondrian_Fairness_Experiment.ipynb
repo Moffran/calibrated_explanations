{
 "cells": [
  {
   "cell_type": "code",
   "execution_count": null,
   "metadata": {},
   "outputs": [],
   "source": [
    "%load_ext autoreload\n",
    "%autoreload 2"
   ]
  },
  {
   "cell_type": "code",
   "execution_count": 82,
   "metadata": {},
   "outputs": [
    {
     "name": "stdout",
     "output_type": "stream",
     "text": [
      "calibrated_explanations v0.3.1\n"
     ]
    }
   ],
   "source": [
    "import numpy as np\n",
    "import pandas as pd\n",
    "from sklearn.ensemble import RandomForestClassifier, RandomForestRegressor\n",
    "from sklearn.model_selection import KFold, train_test_split\n",
    "\n",
    "from crepes import ConformalPredictiveSystem\n",
    "from crepes.extras import binning, DifficultyEstimator\n",
    "\n",
    "from calibrated_explanations import  VennAbers, __version__\n",
    "from calibrated_explanations.utils import transform_to_numeric\n",
    "\n",
    "print(f\"calibrated_explanations {__version__}\")\n"
   ]
  },
  {
   "cell_type": "markdown",
   "metadata": {},
   "source": [
    "# COMPAS\n",
    "Data preprocessing from [this notebook](https://colab.research.google.com/github/pair-code/what-if-tool/blob/master/WIT_COMPAS_with_SHAP.ipynb#scrollTo=KF00pJvkeicT)."
   ]
  },
  {
   "cell_type": "code",
   "execution_count": null,
   "metadata": {},
   "outputs": [],
   "source": [
    "df = pd.read_csv('https://storage.googleapis.com/what-if-tool-resources/computefest2019/cox-violent-parsed_filt.csv')\n",
    "print(df.shape)\n",
    "# Preprocess the data\n",
    "\n",
    "# Filter out entries with no indication of recidivism or no compass score\n",
    "df = df[df['is_recid'] != -1]\n",
    "df = df[df['decile_score'] != -1]\n",
    "\n",
    "\n",
    "# Make the COMPASS label column numeric (0 and 1), for use in our model\n",
    "df['score_text'] = np.where(df['score_text'] == 'Low', 'Low', 'Not Low')\n",
    "\n",
    "target = 'score_text'\n",
    "\n",
    "print(df.shape)\n",
    "df.head()\n"
   ]
  },
  {
   "cell_type": "code",
   "execution_count": null,
   "metadata": {},
   "outputs": [],
   "source": [
    "features_to_keep = ['sex', 'age', 'race', 'juv_fel_count', 'juv_misd_count', 'juv_other_count', 'priors_count', 'score_text']\n",
    "# 'age_cat', 'is_recid', 'vr_charge_desc',  'c_charge_desc',, 'is_violent_recid''vr_charge_degree', 'c_charge_degree', 'decile_score', \n",
    "df = df[features_to_keep]\n",
    "df, categorical_features, categorical_labels, target_labels, mappings = transform_to_numeric(df, target)\n",
    "print(categorical_features)\n",
    "print(*[f\"{key}: {value}\" for key, value in mappings.items()], sep=\"\\n\")\n",
    "print(target_labels)\n",
    "df.head()\n"
   ]
  },
  {
   "cell_type": "code",
   "execution_count": null,
   "metadata": {},
   "outputs": [],
   "source": [
    "print(df.columns)\n",
    "race = 2\n",
    "age = 1\n",
    "sex = 0"
   ]
  },
  {
   "cell_type": "code",
   "execution_count": null,
   "metadata": {},
   "outputs": [],
   "source": [
    "num_to_test = 20 # number of instances to test\n",
    "\n",
    "df = df.sample(frac=1, random_state=42).sort_values(by=[target])\n",
    "Xd, yd = df.drop([target],axis=1), df[target] \n",
    "no_of_classes = len(np.unique(yd))\n",
    "no_of_features = Xd.shape[1]\n",
    "no_of_instances = Xd.shape[0]\n",
    "\n",
    "# select test instances from each class and split into train, cal and test\n",
    "\n",
    "X, y = Xd.values, yd.values"
   ]
  },
  {
   "cell_type": "code",
   "execution_count": null,
   "metadata": {},
   "outputs": [],
   "source": [
    "kf = KFold(n_splits=10)\n",
    "\n",
    "base = 'base'\n",
    "attributes = [base, race, sex, age]\n",
    "attribute_names = [base, 'race', 'sex', 'age']\n",
    "va = {}\n",
    "results = {}\n",
    "results['proba'] = {}\n",
    "results['low'] = {}\n",
    "results['high'] = {}\n",
    "for attr in attribute_names:\n",
    "    va[attr] = None\n",
    "    results['proba'][attr] = []\n",
    "    results['low'][attr] = []\n",
    "    results['high'][attr] = []\n",
    "\n",
    "for train_index, test_index in kf.split(X):\n",
    "    X_train_cal, X_test = X[train_index], X[test_index]\n",
    "    y_train_cal, y_test = y[train_index], y[test_index]\n",
    "    \n",
    "    X_train, X_cal, y_train, y_cal = train_test_split(X_train_cal, y_train_cal, test_size=0.3, random_state=42)\n",
    "    \n",
    "    model = RandomForestClassifier()\n",
    "\n",
    "    model.fit(X_train,y_train)\n",
    "    age_cal_bin, age_cal_boundaries = binning(X_cal[:,age], bins=5)\n",
    "    age_test_bin = binning(X_test[:,age], age_cal_boundaries)\n",
    "    cal_bins = {base: None, 'race': X_cal[:,race], 'sex': X_cal[:,sex], 'age': age_cal_bin}\n",
    "    test_bins = {base: None, 'race': X_test[:,race], 'sex': X_test[:,sex], 'age': age_test_bin}\n",
    "    \n",
    "    for attr in attribute_names:\n",
    "        va[attr] = VennAbers(model.predict_proba(X_cal), y_cal, model, bins=cal_bins[attr])\n",
    "        proba, low, high = va[attr].predict_proba(X_test, output_interval=True, bins=test_bins[attr])\n",
    "        results['proba'][attr].append(proba[:,1])\n",
    "        results['low'][attr].append(low)\n",
    "        results['high'][attr].append(high)\n"
   ]
  },
  {
   "cell_type": "code",
   "execution_count": null,
   "metadata": {},
   "outputs": [],
   "source": [
    "for attr in attribute_names:\n",
    "    results['proba'][attr] = np.concatenate(results['proba'][attr]) \n",
    "    results['low'][attr] = np.concatenate(results['low'][attr]) \n",
    "    results['high'][attr] = np.concatenate(results['high'][attr]) \n"
   ]
  },
  {
   "cell_type": "code",
   "execution_count": null,
   "metadata": {},
   "outputs": [],
   "source": [
    "widths = {}\n",
    "for attr in attribute_names:\n",
    "    widths[attr] = [results['high'][attr][i] - results['low'][attr][i] for i in range(len(results['high'][attr]))]\n",
    "    print(f'{attr} width: {np.mean(widths[attr]): 2g} ({np.std(widths[attr]): 2g} )')"
   ]
  },
  {
   "cell_type": "markdown",
   "metadata": {},
   "source": [
    "# Adult"
   ]
  },
  {
   "cell_type": "code",
   "execution_count": null,
   "metadata": {},
   "outputs": [],
   "source": [
    "from ucimlrepo import fetch_ucirepo \n",
    "  \n",
    "# fetch dataset \n",
    "adult = fetch_ucirepo(id=2) \n",
    "  \n",
    "# data (as pandas dataframes) \n",
    "X = adult.data.features \n",
    "y = adult.data.targets \n",
    "  \n",
    "# metadata \n",
    "# print(adult.metadata) \n",
    "  \n",
    "# # variable information \n",
    "# print(adult.variables) \n"
   ]
  },
  {
   "cell_type": "code",
   "execution_count": null,
   "metadata": {},
   "outputs": [],
   "source": [
    "df = X\n",
    "target = 'Income'\n",
    "y = y.replace('<=50K.', '<=50K')\n",
    "y = y.replace('>50K.', '>50K')\n",
    "df[target] = y\n",
    "df = df.dropna()\n",
    "df, categorical_features, categorical_labels, target_labels, _ = transform_to_numeric(df, target)\n",
    "print(target_labels)"
   ]
  },
  {
   "cell_type": "code",
   "execution_count": null,
   "metadata": {},
   "outputs": [],
   "source": [
    "num_to_test = 10 # number of instances to test, one from each class\n",
    "\n",
    "df = df.sample(frac=1, random_state=42).sort_values(by=[target])\n",
    "Xd, yd = df.drop(target,axis=1), df[target] \n",
    "no_of_classes = len(np.unique(yd))\n",
    "no_of_features = Xd.shape[1]\n",
    "no_of_instances = Xd.shape[0]\n",
    "\n",
    "# select test instances from each class and split into train, cal and test\n",
    "X, y = Xd.values, yd.values"
   ]
  },
  {
   "cell_type": "code",
   "execution_count": null,
   "metadata": {},
   "outputs": [],
   "source": [
    "print(df.columns)\n",
    "edu = 3\n",
    "race = 8\n",
    "sex = 9"
   ]
  },
  {
   "cell_type": "code",
   "execution_count": null,
   "metadata": {},
   "outputs": [],
   "source": [
    "kf = KFold(n_splits=10)\n",
    "\n",
    "base = 'base'\n",
    "attributes = [base, race, sex, edu]\n",
    "attribute_names = [base, 'race', 'sex', 'edu']\n",
    "va = {}\n",
    "results = {}\n",
    "results['proba'] = {}\n",
    "results['low'] = {}\n",
    "results['high'] = {}\n",
    "for attr in attribute_names:\n",
    "    va[attr] = None\n",
    "    results['proba'][attr] = []\n",
    "    results['low'][attr] = []\n",
    "    results['high'][attr] = []\n",
    "\n",
    "for train_index, test_index in kf.split(X):\n",
    "    X_train_cal, X_test = X[train_index], X[test_index]\n",
    "    y_train_cal, y_test = y[train_index], y[test_index]\n",
    "    \n",
    "    X_train, X_cal, y_train, y_cal = train_test_split(X_train_cal, y_train_cal, test_size=0.3, random_state=42)\n",
    "    \n",
    "    model = RandomForestClassifier()\n",
    "\n",
    "    model.fit(X_train,y_train)\n",
    "    cal_bins = {base: None, 'race': X_cal[:,race], 'sex': X_cal[:,sex], 'edu': X_cal[:,edu]}\n",
    "    test_bins = {base: None, 'race': X_test[:,race], 'sex': X_test[:,sex], 'edu': X_test[:,edu]}\n",
    "    \n",
    "    for attr in attribute_names:\n",
    "        va[attr] = VennAbers(model.predict_proba(X_cal), y_cal, model, bins=cal_bins[attr])\n",
    "        proba, low, high = va[attr].predict_proba(X_test, output_interval=True, bins=test_bins[attr])\n",
    "        results['proba'][attr].append(proba[:,1])\n",
    "        results['low'][attr].append(low)\n",
    "        results['high'][attr].append(high)\n"
   ]
  },
  {
   "cell_type": "code",
   "execution_count": null,
   "metadata": {},
   "outputs": [],
   "source": [
    "for attr in attribute_names:\n",
    "    results['proba'][attr] = np.concatenate(results['proba'][attr]) \n",
    "    results['low'][attr] = np.concatenate(results['low'][attr]) \n",
    "    results['high'][attr] = np.concatenate(results['high'][attr]) \n"
   ]
  },
  {
   "cell_type": "code",
   "execution_count": null,
   "metadata": {},
   "outputs": [],
   "source": [
    "widths = {}\n",
    "for attr in attribute_names:\n",
    "    widths[attr] = [results['high'][attr][i] - results['low'][attr][i] for i in range(len(results['high'][attr]))]\n",
    "    print(f'{attr} width: {np.mean(widths[attr]): 2g} ({np.std(widths[attr]): 2g} )')"
   ]
  },
  {
   "cell_type": "markdown",
   "metadata": {},
   "source": [
    "# German\n"
   ]
  },
  {
   "cell_type": "code",
   "execution_count": null,
   "metadata": {},
   "outputs": [],
   "source": [
    "from ucimlrepo import fetch_ucirepo \n",
    "  \n",
    "# fetch dataset \n",
    "statlog_german_credit_data = fetch_ucirepo(id=144) \n",
    "  \n",
    "# data (as pandas dataframes) \n",
    "X = statlog_german_credit_data.data.features \n",
    "y = statlog_german_credit_data.data.targets \n",
    "  \n",
    "# # metadata \n",
    "# print(statlog_german_credit_data.metadata) \n",
    "  \n",
    "# # variable information \n",
    "# print(statlog_german_credit_data.variables) "
   ]
  },
  {
   "cell_type": "code",
   "execution_count": null,
   "metadata": {},
   "outputs": [],
   "source": [
    "feature_names = statlog_german_credit_data.variables.description[:-1]\n",
    "feature_names[0] = 'Status'\n",
    "feature_names[7] = 'Installment rate'\n",
    "feature_names[15] = 'Existing credits'\n",
    "feature_names[17] = 'Num people liable'\n",
    "target_labels = {1: 'Good', 0: 'Bad'}"
   ]
  },
  {
   "cell_type": "code",
   "execution_count": null,
   "metadata": {},
   "outputs": [],
   "source": [
    "print(feature_names)\n",
    "age = 12\n",
    "sex = 8"
   ]
  },
  {
   "cell_type": "code",
   "execution_count": null,
   "metadata": {},
   "outputs": [],
   "source": [
    "df = X\n",
    "target = 'Class'\n",
    "df[target] = y\n",
    "df = df.dropna()\n",
    "df, categorical_features, categorical_labels, _, _ = transform_to_numeric(df, target)"
   ]
  },
  {
   "cell_type": "code",
   "execution_count": 72,
   "metadata": {},
   "outputs": [],
   "source": [
    "num_to_test = 10 # number of instances to test, one from each class\n",
    "\n",
    "df = df.sample(frac=1, random_state=42).sort_values(by=[target])\n",
    "Xd, yd = df.drop(target,axis=1), df[target] \n",
    "no_of_classes = len(np.unique(yd))\n",
    "no_of_features = Xd.shape[1]\n",
    "no_of_instances = Xd.shape[0]\n",
    "\n",
    "# select test instances from each class and split into train, cal and test\n",
    "X, y = Xd.values, yd.values\n",
    "y[y == 2] = 0"
   ]
  },
  {
   "cell_type": "code",
   "execution_count": 73,
   "metadata": {},
   "outputs": [
    {
     "name": "stderr",
     "output_type": "stream",
     "text": [
      "c:\\Users\\loftuw\\AppData\\Local\\anaconda3\\envs\\ce\\lib\\site-packages\\venn_abers\\venn_abers.py:102: RuntimeWarning: All-NaN slice encountered\n",
      "  if np.sum(np.isnan(np.nanmin(grads))) == 0:\n",
      "c:\\Users\\loftuw\\AppData\\Local\\anaconda3\\envs\\ce\\lib\\site-packages\\venn_abers\\venn_abers.py:102: RuntimeWarning: All-NaN slice encountered\n",
      "  if np.sum(np.isnan(np.nanmin(grads))) == 0:\n",
      "c:\\Users\\loftuw\\AppData\\Local\\anaconda3\\envs\\ce\\lib\\site-packages\\venn_abers\\venn_abers.py:102: RuntimeWarning: All-NaN slice encountered\n",
      "  if np.sum(np.isnan(np.nanmin(grads))) == 0:\n"
     ]
    }
   ],
   "source": [
    "kf = KFold(n_splits=10)\n",
    "\n",
    "base = 'base'\n",
    "attributes = [base, sex, age]\n",
    "attribute_names = [base, 'sex', 'age']\n",
    "va = {}\n",
    "results = {}\n",
    "results['proba'] = {}\n",
    "results['low'] = {}\n",
    "results['high'] = {}\n",
    "for attr in attribute_names:\n",
    "    va[attr] = None\n",
    "    results['proba'][attr] = []\n",
    "    results['low'][attr] = []\n",
    "    results['high'][attr] = []\n",
    "\n",
    "for train_index, test_index in kf.split(X):\n",
    "    X_train_cal, X_test = X[train_index], X[test_index]\n",
    "    y_train_cal, y_test = y[train_index], y[test_index]\n",
    "    \n",
    "    X_train, X_cal, y_train, y_cal = train_test_split(X_train_cal, y_train_cal, test_size=0.3, random_state=42)\n",
    "    \n",
    "    model = RandomForestClassifier()\n",
    "\n",
    "    model.fit(X_train,y_train)\n",
    "    age_cal_bin, age_cal_boundaries = binning(X_cal[:,age], bins=5)\n",
    "    age_test_bin = binning(X_test[:,age], age_cal_boundaries)\n",
    "    cal_bins = {base: None, 'sex': X_cal[:,sex], 'age': age_cal_bin}\n",
    "    test_bins = {base: None, 'sex': X_test[:,sex], 'age': age_test_bin}\n",
    "    \n",
    "    for attr in attribute_names:\n",
    "        va[attr] = VennAbers(model.predict_proba(X_cal), y_cal, model, bins=cal_bins[attr])\n",
    "        proba, low, high = va[attr].predict_proba(X_test, output_interval=True, bins=test_bins[attr])\n",
    "        results['proba'][attr].append(proba[:,1])\n",
    "        results['low'][attr].append(low)\n",
    "        results['high'][attr].append(high)\n"
   ]
  },
  {
   "cell_type": "code",
   "execution_count": 74,
   "metadata": {},
   "outputs": [],
   "source": [
    "for attr in attribute_names:\n",
    "    results['proba'][attr] = np.concatenate(results['proba'][attr]) \n",
    "    results['low'][attr] = np.concatenate(results['low'][attr]) \n",
    "    results['high'][attr] = np.concatenate(results['high'][attr]) \n"
   ]
  },
  {
   "cell_type": "code",
   "execution_count": 75,
   "metadata": {},
   "outputs": [
    {
     "name": "stdout",
     "output_type": "stream",
     "text": [
      "base width:  0.0494171 ( 0.0621556 )\n",
      "sex width:  0.100241 ( 0.102047 )\n",
      "age width:  0.128648 ( 0.117976 )\n"
     ]
    }
   ],
   "source": [
    "widths = {}\n",
    "for attr in attribute_names:\n",
    "    widths[attr] = [results['high'][attr][i] - results['low'][attr][i] for i in range(len(results['high'][attr]))]\n",
    "    print(f'{attr} width: {np.mean(widths[attr]): 2g} ({np.std(widths[attr]): 2g} )')"
   ]
  },
  {
   "cell_type": "markdown",
   "metadata": {},
   "source": [
    "# Boston"
   ]
  },
  {
   "cell_type": "code",
   "execution_count": 76,
   "metadata": {},
   "outputs": [
    {
     "data": {
      "text/html": [
       "<div>\n",
       "<style scoped>\n",
       "    .dataframe tbody tr th:only-of-type {\n",
       "        vertical-align: middle;\n",
       "    }\n",
       "\n",
       "    .dataframe tbody tr th {\n",
       "        vertical-align: top;\n",
       "    }\n",
       "\n",
       "    .dataframe thead th {\n",
       "        text-align: right;\n",
       "    }\n",
       "</style>\n",
       "<table border=\"1\" class=\"dataframe\">\n",
       "  <thead>\n",
       "    <tr style=\"text-align: right;\">\n",
       "      <th></th>\n",
       "      <th>CRIM</th>\n",
       "      <th>ZN</th>\n",
       "      <th>INDUS</th>\n",
       "      <th>CHAS</th>\n",
       "      <th>NOX</th>\n",
       "      <th>RM</th>\n",
       "      <th>AGE</th>\n",
       "      <th>DIS</th>\n",
       "      <th>RAD</th>\n",
       "      <th>TAX</th>\n",
       "      <th>PTRATIO</th>\n",
       "      <th>B</th>\n",
       "      <th>LSTAT</th>\n",
       "      <th>MEDV</th>\n",
       "    </tr>\n",
       "  </thead>\n",
       "  <tbody>\n",
       "    <tr>\n",
       "      <th>0</th>\n",
       "      <td>0.00632</td>\n",
       "      <td>18.0</td>\n",
       "      <td>2.31</td>\n",
       "      <td>0.0</td>\n",
       "      <td>0.538</td>\n",
       "      <td>6.575</td>\n",
       "      <td>65.2</td>\n",
       "      <td>4.0900</td>\n",
       "      <td>1</td>\n",
       "      <td>296</td>\n",
       "      <td>15.3</td>\n",
       "      <td>396.90</td>\n",
       "      <td>4.98</td>\n",
       "      <td>24.0</td>\n",
       "    </tr>\n",
       "    <tr>\n",
       "      <th>1</th>\n",
       "      <td>0.02731</td>\n",
       "      <td>0.0</td>\n",
       "      <td>7.07</td>\n",
       "      <td>0.0</td>\n",
       "      <td>0.469</td>\n",
       "      <td>6.421</td>\n",
       "      <td>78.9</td>\n",
       "      <td>4.9671</td>\n",
       "      <td>2</td>\n",
       "      <td>242</td>\n",
       "      <td>17.8</td>\n",
       "      <td>396.90</td>\n",
       "      <td>9.14</td>\n",
       "      <td>21.6</td>\n",
       "    </tr>\n",
       "    <tr>\n",
       "      <th>2</th>\n",
       "      <td>0.02729</td>\n",
       "      <td>0.0</td>\n",
       "      <td>7.07</td>\n",
       "      <td>0.0</td>\n",
       "      <td>0.469</td>\n",
       "      <td>7.185</td>\n",
       "      <td>61.1</td>\n",
       "      <td>4.9671</td>\n",
       "      <td>2</td>\n",
       "      <td>242</td>\n",
       "      <td>17.8</td>\n",
       "      <td>392.83</td>\n",
       "      <td>4.03</td>\n",
       "      <td>34.7</td>\n",
       "    </tr>\n",
       "    <tr>\n",
       "      <th>3</th>\n",
       "      <td>0.03237</td>\n",
       "      <td>0.0</td>\n",
       "      <td>2.18</td>\n",
       "      <td>0.0</td>\n",
       "      <td>0.458</td>\n",
       "      <td>6.998</td>\n",
       "      <td>45.8</td>\n",
       "      <td>6.0622</td>\n",
       "      <td>3</td>\n",
       "      <td>222</td>\n",
       "      <td>18.7</td>\n",
       "      <td>394.63</td>\n",
       "      <td>2.94</td>\n",
       "      <td>33.4</td>\n",
       "    </tr>\n",
       "    <tr>\n",
       "      <th>4</th>\n",
       "      <td>0.06905</td>\n",
       "      <td>0.0</td>\n",
       "      <td>2.18</td>\n",
       "      <td>0.0</td>\n",
       "      <td>0.458</td>\n",
       "      <td>7.147</td>\n",
       "      <td>54.2</td>\n",
       "      <td>6.0622</td>\n",
       "      <td>3</td>\n",
       "      <td>222</td>\n",
       "      <td>18.7</td>\n",
       "      <td>396.90</td>\n",
       "      <td>NaN</td>\n",
       "      <td>36.2</td>\n",
       "    </tr>\n",
       "  </tbody>\n",
       "</table>\n",
       "</div>"
      ],
      "text/plain": [
       "      CRIM    ZN  INDUS  CHAS    NOX     RM   AGE     DIS  RAD  TAX  PTRATIO  \\\n",
       "0  0.00632  18.0   2.31   0.0  0.538  6.575  65.2  4.0900    1  296     15.3   \n",
       "1  0.02731   0.0   7.07   0.0  0.469  6.421  78.9  4.9671    2  242     17.8   \n",
       "2  0.02729   0.0   7.07   0.0  0.469  7.185  61.1  4.9671    2  242     17.8   \n",
       "3  0.03237   0.0   2.18   0.0  0.458  6.998  45.8  6.0622    3  222     18.7   \n",
       "4  0.06905   0.0   2.18   0.0  0.458  7.147  54.2  6.0622    3  222     18.7   \n",
       "\n",
       "        B  LSTAT  MEDV  \n",
       "0  396.90   4.98  24.0  \n",
       "1  396.90   9.14  21.6  \n",
       "2  392.83   4.03  34.7  \n",
       "3  394.63   2.94  33.4  \n",
       "4  396.90    NaN  36.2  "
      ]
     },
     "execution_count": 76,
     "metadata": {},
     "output_type": "execute_result"
    }
   ],
   "source": [
    "df = pd.read_csv('../data/reg/HousingData.csv', na_values='NA')\n",
    "df.head()"
   ]
  },
  {
   "cell_type": "code",
   "execution_count": 77,
   "metadata": {},
   "outputs": [
    {
     "name": "stdout",
     "output_type": "stream",
     "text": [
      "Index(['CRIM', 'ZN', 'INDUS', 'CHAS', 'NOX', 'RM', 'AGE', 'DIS', 'RAD', 'TAX',\n",
      "       'PTRATIO', 'B', 'LSTAT'],\n",
      "      dtype='object')\n"
     ]
    }
   ],
   "source": [
    "feature_names = df.columns[:-1]\n",
    "print(feature_names)\n",
    "crm = 0"
   ]
  },
  {
   "cell_type": "code",
   "execution_count": 78,
   "metadata": {},
   "outputs": [],
   "source": [
    "target = 'MEDV'\n",
    "df = df.dropna()\n",
    "df, categorical_features, categorical_labels, target_labels, _ = transform_to_numeric(df, target)"
   ]
  },
  {
   "cell_type": "code",
   "execution_count": 80,
   "metadata": {},
   "outputs": [],
   "source": [
    "num_to_test = 10 # number of instances to test, one from each class\n",
    "\n",
    "Xd, yd = df.drop(target,axis=1), df[target]\n",
    "X, y = df.drop(target,axis=1).values, df[target].values\n",
    "no_of_classes = len(np.unique(yd))\n",
    "no_of_features = Xd.shape[1]\n",
    "no_of_instances = Xd.shape[0]"
   ]
  },
  {
   "cell_type": "markdown",
   "metadata": {},
   "source": [
    "### Standard Regression\n",
    "Default confidence of 90%"
   ]
  },
  {
   "cell_type": "code",
   "execution_count": 88,
   "metadata": {},
   "outputs": [],
   "source": [
    "kf = KFold(n_splits=10)\n",
    "\n",
    "base = 'base'\n",
    "attributes = [base, crm]\n",
    "attribute_names = [base, 'crm']\n",
    "cps = {}\n",
    "results = {}\n",
    "results['median'] = {}\n",
    "results['low'] = {}\n",
    "results['high'] = {}\n",
    "for attr in attribute_names:\n",
    "    cps[attr] = None\n",
    "    results['median'][attr] = []\n",
    "    results['low'][attr] = []\n",
    "    results['high'][attr] = []\n",
    "\n",
    "for train_index, test_index in kf.split(X):\n",
    "    X_train_cal, X_test = X[train_index], X[test_index]\n",
    "    y_train_cal, y_test = y[train_index], y[test_index]\n",
    "    \n",
    "    X_train, X_cal, y_train, y_cal = train_test_split(X_train_cal, y_train_cal, test_size=0.3, random_state=42)\n",
    "    \n",
    "    model = RandomForestRegressor()\n",
    "\n",
    "    model.fit(X_train,y_train)\n",
    "    crm_cal_bin, crm_cal_boundaries = binning(X_cal[:,crm], bins=3)\n",
    "    crm_test_bin = binning(X_test[:,crm], crm_cal_boundaries)\n",
    "    cal_bins = {base: None, 'crm': crm_cal_bin}\n",
    "    test_bins = {base: None, 'crm': crm_test_bin}\n",
    "    residuals_cal = model.predict(X_cal) - y_cal\n",
    "    y_test_hat = model.predict(X_test)\n",
    "    \n",
    "    for attr in attribute_names:\n",
    "        cps[attr] = ConformalPredictiveSystem()\n",
    "        cps[attr].fit(residuals_cal, bins=cal_bins[attr])\n",
    "        values = cps[attr].predict(y_test_hat, bins=test_bins[attr], lower_percentiles=[5, 50], higher_percentiles=[95, 50])\n",
    "        results['median'][attr].append(np.mean(values[:,[1, 3]], axis=1))\n",
    "        results['low'][attr].append(values[:,0])\n",
    "        results['high'][attr].append(values[:,2])\n"
   ]
  },
  {
   "cell_type": "code",
   "execution_count": 89,
   "metadata": {},
   "outputs": [],
   "source": [
    "for attr in attribute_names:\n",
    "    results['median'][attr] = np.concatenate(results['median'][attr])\n",
    "    results['low'][attr] = np.concatenate(results['low'][attr])\n",
    "    results['high'][attr] = np.concatenate(results['high'][attr])"
   ]
  },
  {
   "cell_type": "code",
   "execution_count": 90,
   "metadata": {},
   "outputs": [
    {
     "name": "stdout",
     "output_type": "stream",
     "text": [
      "base width:  9.86742 ( 1.08091 )\n",
      "crm width:  13.6272 ( 2.86241 )\n"
     ]
    }
   ],
   "source": [
    "widths = {}\n",
    "for attr in attribute_names:\n",
    "    widths[attr] = [results['high'][attr][i] - results['low'][attr][i] for i in range(len(results['high'][attr]))]\n",
    "    print(f'{attr} width: {np.mean(widths[attr]): 2g} ({np.std(widths[attr]): 2g} )')"
   ]
  },
  {
   "cell_type": "markdown",
   "metadata": {},
   "source": [
    "## Normalized Explanations"
   ]
  },
  {
   "cell_type": "code",
   "execution_count": 91,
   "metadata": {},
   "outputs": [],
   "source": [
    "kf = KFold(n_splits=10)\n",
    "\n",
    "base = 'base'\n",
    "attributes = [base, crm]\n",
    "attribute_names = [base, 'crm']\n",
    "cps = {}\n",
    "results = {}\n",
    "results['median'] = {}\n",
    "results['low'] = {}\n",
    "results['high'] = {}\n",
    "for attr in attribute_names:\n",
    "    cps[attr] = None\n",
    "    results['median'][attr] = []\n",
    "    results['low'][attr] = []\n",
    "    results['high'][attr] = []\n",
    "\n",
    "for train_index, test_index in kf.split(X):\n",
    "    X_train_cal, X_test = X[train_index], X[test_index]\n",
    "    y_train_cal, y_test = y[train_index], y[test_index]\n",
    "    \n",
    "    X_train, X_cal, y_train, y_cal = train_test_split(X_train_cal, y_train_cal, test_size=0.3, random_state=42)\n",
    "    \n",
    "    model = RandomForestRegressor()\n",
    "\n",
    "    model.fit(X_train,y_train)\n",
    "    crm_cal_bin, crm_cal_boundaries = binning(X_cal[:,crm], bins=3)\n",
    "    crm_test_bin = binning(X_test[:,crm], crm_cal_boundaries)\n",
    "    cal_bins = {base: None, 'crm': crm_cal_bin}\n",
    "    test_bins = {base: None, 'crm': crm_test_bin}\n",
    "    residuals_cal = model.predict(X_cal) - y_cal\n",
    "    y_test_hat = model.predict(X_test)\n",
    "    \n",
    "    difficulty = DifficultyEstimator().fit(X=X_train, learner=model, scaler=True)\n",
    "    sigmas_cal = difficulty.apply(X_cal)\n",
    "    sigmas_test = difficulty.apply(X_test)\n",
    "    \n",
    "    for attr in attribute_names:\n",
    "        cps[attr] = ConformalPredictiveSystem()\n",
    "        cps[attr].fit(residuals_cal, sigmas=sigmas_cal, bins=cal_bins[attr])\n",
    "        values = cps[attr].predict(y_test_hat, sigmas=sigmas_test, bins=test_bins[attr], lower_percentiles=[5, 50], higher_percentiles=[95, 50])\n",
    "        results['median'][attr].append(np.mean(values[:,[1, 3]], axis=1))\n",
    "        results['low'][attr].append(values[:,0])\n",
    "        results['high'][attr].append(values[:,2])\n"
   ]
  },
  {
   "cell_type": "code",
   "execution_count": 92,
   "metadata": {},
   "outputs": [],
   "source": [
    "for attr in attribute_names:\n",
    "    results['median'][attr] = np.concatenate(results['median'][attr])\n",
    "    results['low'][attr] = np.concatenate(results['low'][attr])\n",
    "    results['high'][attr] = np.concatenate(results['high'][attr])"
   ]
  },
  {
   "cell_type": "code",
   "execution_count": 93,
   "metadata": {},
   "outputs": [
    {
     "name": "stdout",
     "output_type": "stream",
     "text": [
      "base width:  17.4181 ( 19.6481 )\n",
      "crm width:  27.1914 ( 29.7635 )\n"
     ]
    }
   ],
   "source": [
    "widths = {}\n",
    "for attr in attribute_names:\n",
    "    widths[attr] = [results['high'][attr][i] - results['low'][attr][i] for i in range(len(results['high'][attr]))]\n",
    "    print(f'{attr} width: {np.mean(widths[attr]): 2g} ({np.std(widths[attr]): 2g} )')"
   ]
  }
 ],
 "metadata": {
  "kernelspec": {
   "display_name": "ce",
   "language": "python",
   "name": "python3"
  },
  "language_info": {
   "codemirror_mode": {
    "name": "ipython",
    "version": 3
   },
   "file_extension": ".py",
   "mimetype": "text/x-python",
   "name": "python",
   "nbconvert_exporter": "python",
   "pygments_lexer": "ipython3",
   "version": "3.10.13"
  }
 },
 "nbformat": 4,
 "nbformat_minor": 2
}
