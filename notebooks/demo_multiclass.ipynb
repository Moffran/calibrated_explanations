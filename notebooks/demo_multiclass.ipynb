{
 "cells": [
  {
   "cell_type": "code",
   "execution_count": null,
   "metadata": {},
   "outputs": [],
   "source": [
    "%load_ext autoreload\n",
    "%autoreload 2"
   ]
  },
  {
   "cell_type": "code",
   "execution_count": null,
   "metadata": {},
   "outputs": [],
   "source": [
    "import numpy as np\n",
    "import pandas as pd\n",
    "from sklearn.ensemble import RandomForestClassifier\n",
    "from sklearn.model_selection import train_test_split\n",
    "from calibrated_explanations import CalibratedExplainer, VennAbers\n",
    "from lime.lime_tabular import LimeTabularExplainer"
   ]
  },
  {
   "cell_type": "code",
   "execution_count": null,
   "metadata": {},
   "outputs": [],
   "source": [
    "\n",
    "dataSet = 'glass'\n",
    "delimiter = ','\n",
    "num_to_test = 12\n",
    "print(dataSet)\n",
    "\n",
    "fileName = '../data/Multiclass/' + dataSet + \".csv\"\n",
    "df = pd.read_csv(fileName, delimiter=delimiter)\n",
    "target = 'Type'\n",
    "\n",
    "df = df.dropna()\n",
    "categorical_features = []\n",
    "categorical_labels = {}\n",
    "for c, col in enumerate(df.columns):\n",
    "    if df[col].dtype == object:\n",
    "        df[col] = df[col].str.replace(\"'\", \"\")\n",
    "        df[col] = df[col].str.replace('\"', '')\n",
    "        if col != target:\n",
    "            categorical_features.append(c)\n",
    "            categorical_labels[c] = dict(zip(range(len(np.unique(df[col]))),np.unique(df[col])))\n",
    "        else:\n",
    "            target_labels = dict(zip(range(len(np.unique(df[col]))),np.unique(df[col])))\n",
    "        mapping = dict(zip(np.unique(df[col]), range(len(np.unique(df[col])))))\n",
    "        if len(mapping) > 5:\n",
    "            counts = df[col].value_counts().sort_values(ascending=False)\n",
    "            id = 0\n",
    "            for key, count in counts.items():\n",
    "                if count > 5:\n",
    "                    id += 1\n",
    "                    continue\n",
    "                mapping[key] = id\n",
    "        df[col] = df[col].map(mapping)\n",
    "print(target_labels)"
   ]
  },
  {
   "cell_type": "code",
   "execution_count": null,
   "metadata": {},
   "outputs": [],
   "source": [
    "df.head()"
   ]
  },
  {
   "cell_type": "code",
   "execution_count": null,
   "metadata": {},
   "outputs": [],
   "source": [
    "X, y = df.drop(target,axis=1), df[target] \n",
    "no_of_classes = len(np.unique(y))\n",
    "no_of_features = X.shape[1]\n",
    "no_of_instances = X.shape[0]\n",
    "# sort targets to make sure equal presence of both classes in test set (see definition of test_index after outer loop below)\n",
    "idx = np.argsort(y.values).astype(int)\n",
    "X, y = X.values[idx,:], y.values[idx]\n",
    "test_idx = []\n",
    "idx = list(range(no_of_instances))\n",
    "for i in range(no_of_classes):\n",
    "    test_idx.append(np.where(y == i)[0][0:int(num_to_test/no_of_classes)])\n",
    "test_index = np.array(test_idx).flatten()\n",
    "# Select num_to_test/2 from top and num_to_test/2 from bottom of list of instances\n",
    "train_index = np.setdiff1d(np.array(range(no_of_instances)), test_index)   \n",
    "trainCalX, testX = X[train_index,:], X[test_index,:]\n",
    "trainCalY, testY = y[train_index], y[test_index]\n",
    "trainX, calX, trainY, calY = train_test_split(trainCalX, trainCalY, test_size=0.33,random_state=42, stratify=trainCalY)\n",
    "print(testY)\n",
    "print(categorical_features)"
   ]
  },
  {
   "cell_type": "code",
   "execution_count": null,
   "metadata": {},
   "outputs": [],
   "source": [
    "model = RandomForestClassifier(n_estimators=100)\n",
    "model_name = 'RF' \n",
    "model.fit(trainX,trainY)  "
   ]
  },
  {
   "cell_type": "code",
   "execution_count": null,
   "metadata": {},
   "outputs": [],
   "source": [
    "va = VennAbers(model.predict_proba(calX), calY, model)\n",
    "va_preds = va.predict(testX)\n",
    "va_proba, low, high, classes = va.predict_proba(testX, output_interval=True)\n",
    "print(*zip(low, va_proba[:,1], high, va_preds, testY, classes),sep='\\n')  "
   ]
  },
  {
   "cell_type": "code",
   "execution_count": null,
   "metadata": {},
   "outputs": [],
   "source": [
    "ce = CalibratedExplainer(model, calX, calY, \\\n",
    "                    feature_names=df.columns, \\\n",
    "                    categorical_features=categorical_features, class_labels=target_labels)"
   ]
  },
  {
   "cell_type": "code",
   "execution_count": null,
   "metadata": {},
   "outputs": [],
   "source": [
    "exp = ce.get_factuals(testX)"
   ]
  },
  {
   "cell_type": "code",
   "execution_count": null,
   "metadata": {},
   "outputs": [],
   "source": [
    "exp.plot_regular()"
   ]
  },
  {
   "cell_type": "code",
   "execution_count": null,
   "metadata": {},
   "outputs": [],
   "source": [
    "exp.plot_uncertainty()"
   ]
  },
  {
   "cell_type": "code",
   "execution_count": null,
   "metadata": {},
   "outputs": [],
   "source": [
    "exp.add_conjunctive_factual_rules().plot_regular()"
   ]
  },
  {
   "cell_type": "code",
   "execution_count": null,
   "metadata": {},
   "outputs": [],
   "source": [
    "exp.remove_conjunctive_rules().plot_regular()"
   ]
  },
  {
   "cell_type": "code",
   "execution_count": null,
   "metadata": {},
   "outputs": [],
   "source": [
    "exp = ce.get_counterfactuals(testX)"
   ]
  },
  {
   "cell_type": "code",
   "execution_count": null,
   "metadata": {},
   "outputs": [],
   "source": [
    "exp.add_conjunctive_counterfactual_rules().plot_counterfactuals()"
   ]
  },
  {
   "cell_type": "code",
   "execution_count": null,
   "metadata": {},
   "outputs": [],
   "source": [
    "exp.remove_conjunctive_rules().plot_counterfactuals()"
   ]
  }
 ],
 "metadata": {
  "kernelspec": {
   "display_name": "Python 3 (ipykernel)",
   "language": "python",
   "name": "python3"
  },
  "language_info": {
   "codemirror_mode": {
    "name": "ipython",
    "version": 3
   },
   "file_extension": ".py",
   "mimetype": "text/x-python",
   "name": "python",
   "nbconvert_exporter": "python",
   "pygments_lexer": "ipython3",
   "version": "3.9.7"
  },
  "vscode": {
   "interpreter": {
    "hash": "168dd73c7a7b76a0355e35f33a90e68c167b1dbb1e524891be00dd5c7b8524eb"
   }
  }
 },
 "nbformat": 4,
 "nbformat_minor": 4
}
